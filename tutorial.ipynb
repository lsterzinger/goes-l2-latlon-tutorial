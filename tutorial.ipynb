{
 "cells": [
  {
   "cell_type": "markdown",
   "metadata": {},
   "source": [
    "## Step 1: Import libraries"
   ]
  },
  {
   "cell_type": "code",
   "execution_count": null,
   "metadata": {},
   "outputs": [],
   "source": [
    "import xarray as xr \n",
    "import s3fs\n",
    "import matplotlib.pyplot as plt\n",
    "import numpy as np\n",
    "\n",
    "import cartopy.crs as ccrs\n",
    "import cartopy.feature as cfeature"
   ]
  },
  {
   "cell_type": "code",
   "execution_count": null,
   "metadata": {},
   "outputs": [],
   "source": [
    "import warnings\n",
    "warnings.filterwarnings('ignore')"
   ]
  },
  {
   "cell_type": "code",
   "execution_count": null,
   "metadata": {},
   "outputs": [],
   "source": [
    "fs = s3fs.S3FileSystem(anon=True)"
   ]
  },
  {
   "cell_type": "code",
   "execution_count": null,
   "metadata": {},
   "outputs": [],
   "source": [
    "f = fs.open(\"s3://noaa-goes17/ABI-L2-MCMIPC/2021/050/18/OR_ABI-L2-MCMIPC-M6_G17_s20210501801176_e20210501803549_c20210501804089.nc\")"
   ]
  },
  {
   "cell_type": "code",
   "execution_count": null,
   "metadata": {},
   "outputs": [],
   "source": [
    "ds = xr.open_dataset(f)"
   ]
  },
  {
   "cell_type": "code",
   "execution_count": null,
   "metadata": {},
   "outputs": [],
   "source": [
    "ds"
   ]
  },
  {
   "cell_type": "code",
   "execution_count": null,
   "metadata": {},
   "outputs": [],
   "source": [
    "def calc_latlon(ds):\n",
    "    # The math for this function was taken from \n",
    "    # https://makersportal.com/blog/2018/11/25/goes-r-satellite-latitude-and-longitude-grid-projection-algorithm \n",
    "\n",
    "    x = ds.x\n",
    "    y = ds.y\n",
    "    goes_imager_projection = ds.goes_imager_projection\n",
    "    \n",
    "    x,y = np.meshgrid(x,y)\n",
    "    \n",
    "    r_eq = goes_imager_projection.attrs[\"semi_major_axis\"]\n",
    "    r_pol = goes_imager_projection.attrs[\"semi_minor_axis\"]\n",
    "    l_0 = goes_imager_projection.attrs[\"longitude_of_projection_origin\"] * (np.pi/180)\n",
    "    h_sat = goes_imager_projection.attrs[\"perspective_point_height\"]\n",
    "    H = r_eq + h_sat\n",
    "    \n",
    "    a = np.sin(x)**2 + (np.cos(x)**2 * (np.cos(y)**2 + (r_eq**2 / r_pol**2) * np.sin(y)**2))\n",
    "    b = -2 * H * np.cos(x) * np.cos(y)\n",
    "    c = H**2 - r_eq**2\n",
    "    \n",
    "    r_s = (-b - np.sqrt(b**2 - 4*a*c))/(2*a)\n",
    "    \n",
    "    s_x = r_s * np.cos(x) * np.cos(y)\n",
    "    s_y = -r_s * np.sin(x)\n",
    "    s_z = r_s * np.cos(x) * np.sin(y)\n",
    "    \n",
    "    lat = np.arctan((r_eq**2 / r_pol**2) * (s_z / np.sqrt((H-s_x)**2 +s_y**2))) * (180/np.pi)\n",
    "    lon = (l_0 - np.arctan(s_y / (H-s_x))) * (180/np.pi)\n",
    "    \n",
    "    ds = ds.assign_coords({\n",
    "        \"lat\":([\"y\",\"x\"],lat),\n",
    "        \"lon\":([\"y\",\"x\"],lon)\n",
    "    })\n",
    "    ds.lat.attrs[\"units\"] = \"degrees_north\"\n",
    "    ds.lon.attrs[\"units\"] = \"degrees_east\"\n",
    "\n",
    "    return ds"
   ]
  },
  {
   "cell_type": "code",
   "execution_count": null,
   "metadata": {},
   "outputs": [],
   "source": [
    "def get_xy_from_latlon(ds, lats, lons):\n",
    "    lat1, lat2 = lats\n",
    "    lon1, lon2 = lons\n",
    "\n",
    "    lat = ds.lat.data\n",
    "    lon = ds.lon.data\n",
    "    \n",
    "    x = ds.x.data\n",
    "    y = ds.y.data\n",
    "    \n",
    "    x,y = np.meshgrid(x,y)\n",
    "    \n",
    "    x = x[(lat >= lat1) & (lat <= lat2) & (lon >= lon1) & (lon <= lon2)]\n",
    "    y = y[(lat >= lat1) & (lat <= lat2) & (lon >= lon1) & (lon <= lon2)] \n",
    "    \n",
    "    return ((min(x), max(x)), (min(y), max(y)))\n"
   ]
  },
  {
   "cell_type": "code",
   "execution_count": null,
   "metadata": {},
   "outputs": [],
   "source": [
    "ds = calc_latlon(ds)"
   ]
  },
  {
   "cell_type": "code",
   "execution_count": null,
   "metadata": {},
   "outputs": [],
   "source": [
    "ds.coords"
   ]
  },
  {
   "cell_type": "code",
   "execution_count": null,
   "metadata": {},
   "outputs": [],
   "source": [
    "lats = (30, 55)\n",
    "lons = (-152, -112)\n",
    "\n",
    "((x1,x2), (y1, y2)) = get_xy_from_latlon(ds, lats, lons)"
   ]
  },
  {
   "cell_type": "code",
   "execution_count": null,
   "metadata": {},
   "outputs": [],
   "source": [
    "subset = ds.sel(x=slice(x1,x2), y=slice(y2, y1))\n",
    "subset"
   ]
  },
  {
   "cell_type": "code",
   "execution_count": null,
   "metadata": {},
   "outputs": [],
   "source": [
    "fig = plt.figure(figsize=(8,5))\n",
    "p = subset.CMI_C01.plot(x='lon', y='lat', \n",
    "                   subplot_kws={\n",
    "                       'projection' : ccrs.Orthographic(-130, 40),\n",
    "#                        'extent' : (lons[0], lons[1], lats[0], lats[1])\n",
    "                   }, transform=ccrs.PlateCarree())\n",
    "# p.axes.set_global()\n",
    "p.axes.add_feature(cfeature.COASTLINE)\n",
    "p.axes.add_feature(cfeature.STATES)"
   ]
  },
  {
   "cell_type": "code",
   "execution_count": null,
   "metadata": {},
   "outputs": [],
   "source": [
    "r = subset['CMI_C02'].data; r = np.clip(r, 0, 1)\n",
    "g = subset['CMI_C03'].data; g = np.clip(g, 0, 1)\n",
    "b = subset['CMI_C01'].data; b = np.clip(b, 0, 1)"
   ]
  },
  {
   "cell_type": "code",
   "execution_count": null,
   "metadata": {},
   "outputs": [],
   "source": [
    "gamma = 2.5; r = np.power(r, 1/gamma); g = np.power(g, 1/gamma); b = np.power(b, 1/gamma)\n",
    "g_true = 0.45 * r + 0.1 * g + 0.45 * b\n",
    "g_true = np.clip(g_true, 0, 1)\n",
    "rgb = np.dstack((r, g_true, b))"
   ]
  },
  {
   "cell_type": "code",
   "execution_count": null,
   "metadata": {},
   "outputs": [],
   "source": [
    "fig = plt.figure(figsize=(8,5))\n",
    "ax = plt.subplot(111)\n",
    "ax.imshow(rgb)"
   ]
  },
  {
   "cell_type": "code",
   "execution_count": null,
   "metadata": {},
   "outputs": [],
   "source": []
  }
 ],
 "metadata": {
  "interpreter": {
   "hash": "f43bb45c4215729231d0689d02fc25e3e7286a53728069075b84e29739134f5d"
  },
  "kernelspec": {
   "display_name": "Python 3",
   "language": "python",
   "name": "python3"
  },
  "language_info": {
   "codemirror_mode": {
    "name": "ipython",
    "version": 3
   },
   "file_extension": ".py",
   "mimetype": "text/x-python",
   "name": "python",
   "nbconvert_exporter": "python",
   "pygments_lexer": "ipython3",
   "version": "3.8.10"
  }
 },
 "nbformat": 4,
 "nbformat_minor": 4
}
